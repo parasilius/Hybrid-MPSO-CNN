{
  "nbformat": 4,
  "nbformat_minor": 0,
  "metadata": {
    "colab": {
      "provenance": [],
      "authorship_tag": "ABX9TyPT3nz/+iR3XO89L7G3/dmj"
    },
    "kernelspec": {
      "name": "python3",
      "display_name": "Python 3"
    },
    "language_info": {
      "name": "python"
    }
  },
  "cells": [
    {
      "cell_type": "code",
      "source": [
        "from random import randint, random\n",
        "from tensorflow.keras.models import Sequential\n",
        "from tensorflow.keras.layers import Conv2D, MaxPooling2D, Dense, Flatten, Dropout\n",
        "from math import e\n",
        "from tensorflow.keras.datasets import mnist\n",
        "from tensorflow.keras.utils import normalize, to_categorical"
      ],
      "metadata": {
        "id": "OZvT1CIZLK2W"
      },
      "execution_count": 108,
      "outputs": []
    },
    {
      "cell_type": "code",
      "source": [
        "# padding mapping\n",
        "m_padding = {\n",
        "    0: 'valid',\n",
        "    1: 'same'\n",
        "}\n",
        "\n",
        "def calculate_omega(t, t_max, a=0.2):\n",
        "    if t < a * t_max:\n",
        "        return 0.9\n",
        "    return 1 / (1 + e ** ((10 * t - t_max) / t_max))\n",
        "\n",
        "class Particle1:\n",
        "    def __init__(self, n) -> None:\n",
        "        self.n = n\n",
        "        self.nC = randint(1, 5) # Number of convolutional layers (nC)\n",
        "        self.nP = randint(1, self.nC) # Number of pooling layers (nP)\n",
        "        self.nF = randint(1, self.nC) # Number of fully connected layers (nF)\n",
        "        self.v_nC = randint(1 - self.nC, 5 - self.nC)\n",
        "        self.v_nP = randint(1 - self.nP, 5 - self.nP)\n",
        "        self.v_nF = randint(1 - self.nF, 5 - self.nF)\n",
        "        self.nC_best = self.nC\n",
        "        self.nP_best = self.nP\n",
        "        self.nF_best = self.nF\n",
        "        self.best_particle = None\n",
        "    \n",
        "    def getFitness(self):\n",
        "        if self.best_particle:\n",
        "            return self.best_particle.fitness\n",
        "        return float('-inf')\n",
        "    \n",
        "    def updatePosition(self):\n",
        "        self.nC = int(self.nC + self.v_nC)\n",
        "        self.nP = int(self.nP + self.v_nP)\n",
        "        self.nF = int(self.nF + self.v_nF)\n",
        "    \n",
        "    def updateVelocity(self, w, best_particle, c1=2, c2=2):\n",
        "        r1 = random()\n",
        "        r2 = random()\n",
        "        # updating v_nC\n",
        "        self.v_nC = w * self.v_nC + c1 * r1 * (self.nC_best - self.nC) + c2 * r2 * (best_particle.nC_best - self.nC)\n",
        "        v_nC_max = 5 - self.nC\n",
        "        if self.v_nC > v_nC_max:\n",
        "            self.v_nC = v_nC_max\n",
        "        v_nC_min = 1 - self.nC\n",
        "        if self.v_nC < v_nC_min:\n",
        "            self.v_nC = v_nC_min\n",
        "        # updating v_nP\n",
        "        self.v_nP = w * self.v_nP + c1 * r1 * (self.nP_best - self.nP) + c2 * r2 * (best_particle.nP_best - self.nP)\n",
        "        v_nP_max = self.nC - self.nP\n",
        "        if self.v_nP > v_nP_max:\n",
        "            self.v_nP = v_nP_max\n",
        "        v_nP_min = 1 - self.nP\n",
        "        if self.v_nP < v_nP_min:\n",
        "            self.v_nP = v_nP_min\n",
        "        # updating v_nF\n",
        "        self.v_nF = w * self.v_nF + c1 * r1 * (self.nF_best - self.nF) + c2 * r2 * (best_particle.nF_best - self.nF)\n",
        "        v_nF_max = self.nC - self.nF\n",
        "        if self.v_nF > v_nF_max:\n",
        "            self.v_nF = v_nF_max\n",
        "        v_nF_min = 1 - self.nF\n",
        "        if self.v_nF < v_nF_min:\n",
        "            self.v_nF = v_nF_min\n",
        "\n",
        "    def calculate_pbest(self, number_of_classes, x_train, y_train, x_test, y_test): # algorithm 3\n",
        "        swarm_sl2 = [Particle2()] * self.n\n",
        "        best_particle = None\n",
        "        t_max = 5\n",
        "        for t in range(t_max):\n",
        "            for particle in swarm_sl2:\n",
        "                c_nf = particle.c_nf\n",
        "                c_fs = particle.c_fs if particle.c_fs % 2 == 1 else particle.c_fs - 1\n",
        "                c_pp = particle.c_pp\n",
        "                c_ss = particle.c_ss\n",
        "                p_fs = particle.p_fs\n",
        "                p_ss = particle.p_ss\n",
        "                p_pp = particle.p_pp\n",
        "                op   = particle.op\n",
        "                cnn = Sequential()\n",
        "                nC_counter = 0\n",
        "                nP_counter = 0\n",
        "                while nP_counter != self.nP and nC_counter != self.nC:\n",
        "                    if nC_counter != self.nC:\n",
        "                        cnn.add(Conv2D(c_nf,\n",
        "                                   c_fs,\n",
        "                                   padding=m_padding[c_pp],\n",
        "                                   strides=c_ss,\n",
        "                                   activation='relu',\n",
        "                                   input_shape=(28, 28, 1)))\n",
        "                        nC_counter += 1\n",
        "                    if nP_counter != self.nP:\n",
        "                        cnn.add(MaxPooling2D(pool_size=(p_fs, p_fs),\n",
        "                                         strides=(p_ss, p_ss),\n",
        "                                         padding=m_padding[p_pp]))\n",
        "                cnn.add(Flatten())\n",
        "                for _ in range(self.nF):\n",
        "                    cnn.add(Dropout(0.2))\n",
        "                    cnn.add(Dense(op, activation='relu'))\n",
        "                cnn.add(Dropout(0.2))\n",
        "                cnn.add(Dense(number_of_classes, activation='softmax'))\n",
        "                cnn.compile(loss='categorical_crossentropy', metrics='accuracy')\n",
        "                cnn.fit(x_train, y_train, batch_size=128)\n",
        "                loss, accuracy = cnn.evaluate(x_test, y_test)\n",
        "                if accuracy > particle.fitness:\n",
        "                    particle.fitness = accuracy\n",
        "                    particle.c_nf_best = c_nf\n",
        "                    particle.c_fs_best = c_fs\n",
        "                    particle.c_pp_best = c_pp\n",
        "                    particle.c_ss_best = c_ss\n",
        "                    particle.p_fs_best = p_fs\n",
        "                    particle.p_ss_best = p_ss\n",
        "                    particle.p_pp_best = p_pp\n",
        "                    particle.op_best = op\n",
        "                if not best_particle or accuracy > best_particle.fitness:\n",
        "                    best_particle = particle\n",
        "                w = calculate_omega(t, t_max)\n",
        "                particle.updateVelocity(w, best_particle)\n",
        "                particle.updatePosition()\n",
        "        return best_particle\n",
        "\n",
        "class Particle2:\n",
        "    def __init__(self):\n",
        "        self.c_nf = randint(1, 64) # Number of ﬁlters (c_nf)\n",
        "        self.c_fs = randint(1, 13) # Filter Size (c_fs) (odd)\n",
        "        self.c_pp = randint(0, 1) # Padding pixels (c_pp)\n",
        "        self.c_ss = randint(1, self.c_fs) % 6 # Stride Size (c_ss)(<c_fs)\n",
        "        self.p_fs = randint(1, 13) # Filter Size (p_fs)(odd)\n",
        "        self.p_ss = randint(1, 5) # Stride Size (p_ss)\n",
        "        self.p_pp = randint(0, self.p_fs) % 2 # Padding pixels (p_pp) (<p_fs)\n",
        "        self.op = randint(1, 1024)   # Number of neurons (op)\n",
        "        self.v_c_nf = randint(1 - self.c_nf, 64 - self.c_nf) \n",
        "        self.v_c_fs = randint(1 - self.c_fs, 13 - self.c_fs)\n",
        "        self.v_c_pp = randint(0 - self.c_pp, 1 - self.c_pp)\n",
        "        if self.c_fs > 5:\n",
        "            self.v_c_ss = randint(1 - self.c_ss, 4 - self.c_ss)\n",
        "        else:\n",
        "            self.v_c_ss = randint(1 - self.c_ss, self.c_fs - self.c_ss)\n",
        "        self.v_p_fs = randint(1 - self.p_fs, 13 - self.p_fs)\n",
        "        self.v_p_ss = randint(1 - self.p_ss, 5 - self.p_ss)\n",
        "        if self.p_fs > 2:\n",
        "            self.v_p_pp = randint(0 - self.p_pp, 1 - self.p_pp)\n",
        "        else:\n",
        "            self.v_p_pp = randint(0 - self.p_pp, self.p_fs - self.p_pp)\n",
        "        self.v_op = randint(1 - self.op, 1025 - self.op)\n",
        "        self.c_nf_best = self.c_nf\n",
        "        self.c_fs_best = self.c_fs\n",
        "        self.c_pp_best = self.c_pp\n",
        "        self.c_ss_best = self.c_ss\n",
        "        self.p_fs_best = self.p_fs\n",
        "        self.p_ss_best = self.p_ss\n",
        "        self.p_pp_best = self.p_pp\n",
        "        self.op_best = self.op\n",
        "        self.fitness = float('-inf')\n",
        "    \n",
        "    def updatePosition(self):\n",
        "        self.c_nf = int(self.c_nf + self.v_c_nf)\n",
        "        self.c_fs = int(self.c_fs + self.v_c_fs)\n",
        "        self.c_pp = int(self.c_pp + self.v_c_pp)\n",
        "        self.c_ss = int(self.c_ss + self.v_c_ss)\n",
        "        self.p_fs = int(self.p_fs + self.v_p_fs)\n",
        "        self.p_ss = int(self.p_ss + self.v_p_ss)\n",
        "        self.p_pp = int(self.p_pp + self.v_p_pp)\n",
        "        self.op   = int(self.op + self.v_op)\n",
        "    \n",
        "    def updateVelocity(self, w, best_particle, c1=2, c2=2):\n",
        "        r1 = random()\n",
        "        r2 = random()\n",
        "        # updating v_c_nf\n",
        "        self.v_c_nf = w * self.v_c_nf + c1 * r1 * (self.c_nf_best - self.c_nf) + c2 * r2 * (best_particle.c_nf_best - self.c_nf)\n",
        "        v_c_nf_max = 64 - self.c_nf\n",
        "        if self.v_c_nf > v_c_nf_max:\n",
        "            self.v_c_nf = v_c_nf_max\n",
        "        v_c_nf_min = 1 - self.c_nf\n",
        "        if self.v_c_nf < v_c_nf_min:\n",
        "            self.v_c_nf = v_c_nf_min\n",
        "        # updating v_c_fs\n",
        "        self.v_c_fs = w * self.v_c_fs + c1 * r1 * (self.c_fs_best - self.c_fs) + c2 * r2 * (best_particle.c_fs_best - self.c_fs)\n",
        "        v_c_fs_max = 13 - self.c_fs\n",
        "        if self.v_c_fs > v_c_fs_max:\n",
        "            self.v_c_fs = v_c_fs_max\n",
        "        v_c_fs_min = 1 - self.c_fs\n",
        "        if self.v_c_fs < v_c_fs_min:\n",
        "            self.v_c_fs = v_c_fs_min\n",
        "        # updating v_c_pp\n",
        "        self.v_c_pp = w * self.v_c_pp + c1 * r1 * (self.c_pp_best - self.c_pp) + c2 * r2 * (best_particle.c_pp_best - self.c_pp)\n",
        "        v_c_pp_max = 1 - self.c_pp\n",
        "        if self.v_c_pp > v_c_pp_max:\n",
        "            self.v_c_pp = v_c_pp_max\n",
        "        v_c_pp_min = 0 - self.c_pp\n",
        "        if self.v_c_pp < v_c_pp_min:\n",
        "            self.v_c_pp = v_c_pp_min\n",
        "        # updating v_c_ss\n",
        "        self.v_c_ss = w * self.v_c_ss + c1 * r1 * (self.c_ss_best - self.c_ss) + c2 * r2 * (best_particle.c_ss_best - self.c_ss)\n",
        "        v_c_ss_max = self.c_fs - self.c_ss\n",
        "        if self.v_c_ss > v_c_ss_max:\n",
        "            self.v_c_ss = v_c_ss_max\n",
        "        v_c_ss_min = 1 - self.c_ss\n",
        "        if self.v_c_ss < v_c_ss_min:\n",
        "            self.v_c_ss = v_c_ss_min\n",
        "        # updating v_p_fs\n",
        "        self.v_p_fs = w * self.v_p_fs + c1 * r1 * (self.p_fs_best - self.p_fs) + c2 * r2 * (best_particle.p_fs_best - self.p_fs)\n",
        "        v_p_fs_max = 13 - self.p_fs\n",
        "        if self.v_p_fs > v_p_fs_max:\n",
        "            self.v_p_fs = v_p_fs_max\n",
        "        v_p_fs_min = 1 - self.p_fs\n",
        "        if self.v_p_fs < v_p_fs_min:\n",
        "            self.v_p_fs = v_p_fs_min\n",
        "        # updating v_p_ss\n",
        "        self.v_p_ss = w * self.v_p_ss + c1 * r1 * (self.p_ss_best - self.p_ss) + c2 * r2 * (best_particle.p_ss_best - self.p_ss)\n",
        "        v_p_ss_max = 5 - self.p_ss\n",
        "        if self.v_p_ss > v_p_ss_max:\n",
        "            self.v_p_ss = v_p_ss_max\n",
        "        v_p_ss_min = 0 - self.p_ss\n",
        "        if self.v_p_ss < v_p_ss_min:\n",
        "            self.v_p_ss = v_p_ss_min\n",
        "        # updating v_p_pp\n",
        "        self.v_p_pp = w * self.v_p_pp + c1 * r1 * (self.p_pp_best - self.p_pp) + c2 * r2 * (best_particle.p_pp_best - self.p_pp)\n",
        "        v_p_pp_max = 1 - self.p_pp\n",
        "        if self.v_p_pp > v_p_pp_max:\n",
        "            self.v_p_pp = v_p_pp_max\n",
        "        v_p_pp_min = 0 - self.p_pp\n",
        "        if self.v_p_pp < v_p_pp_min:\n",
        "            self.v_p_pp = v_p_pp_min\n",
        "        # updating v_op\n",
        "        self.v_op = w * self.v_op + c1 * r1 * (self.op_best - self.op) + c2 * r2 * (best_particle.op_best - self.op)\n",
        "        v_op_max = 1024 - self.op\n",
        "        if self.v_op > v_op_max:\n",
        "            self.v_op = v_op_max\n",
        "        v_op_min = 1 - self.op\n",
        "        if self.v_op < v_op_min:\n",
        "            self.v_op = v_op_min"
      ],
      "metadata": {
        "id": "NaTYHh5NVxyy"
      },
      "execution_count": 107,
      "outputs": []
    },
    {
      "cell_type": "code",
      "source": [
        "class HybridMPSOCNN:\n",
        "    def __init__(self, number_of_classes, x_train, y_train, x_test, y_test, m=5, n=8):\n",
        "        self.m = m\n",
        "        self.n = n\n",
        "        self.number_of_classes = number_of_classes\n",
        "        self.x_train = x_train\n",
        "        self.y_train = y_train\n",
        "        self.x_test = x_test\n",
        "        self.y_test = y_test\n",
        "    \n",
        "    def run(self): # algorithm 2\n",
        "        swarm1 = [Particle1(self.n)] * self.m\n",
        "        gbest = None\n",
        "        t_max = randint(5, 9)\n",
        "        for t in range(t_max):\n",
        "            for particle in swarm1:\n",
        "                nC = particle.nC\n",
        "                nP = particle.nP\n",
        "                nF = particle.nF\n",
        "                best_particle = particle.calculate_pbest(self.number_of_classes, self.x_train, self.y_train, self.x_test, self.y_test)\n",
        "                if best_particle.fitness > particle.getFitness():\n",
        "                    particle.nC_best = nC\n",
        "                    particle.nP_best = nP\n",
        "                    particle.nF_best = nF\n",
        "                    particle.best_particle = best_particle\n",
        "                if not gbest or best_particle.fitness > gbest.getFitness():\n",
        "                    gbest = particle\n",
        "                particle.updateVelocity()\n",
        "                particle.updatePosition()\n",
        "        print(best_particle.getFitness())"
      ],
      "metadata": {
        "id": "4Lj1iP2FV0Hw"
      },
      "execution_count": 93,
      "outputs": []
    },
    {
      "cell_type": "markdown",
      "source": [
        "## MNIST Dataset"
      ],
      "metadata": {
        "id": "55X88drcMAm3"
      }
    },
    {
      "cell_type": "code",
      "source": [
        "(x_train, y_train), (x_test, y_test) = mnist.load_data()"
      ],
      "metadata": {
        "colab": {
          "base_uri": "https://localhost:8080/"
        },
        "id": "U7WWUWkXLhPj",
        "outputId": "e2ef6d34-04ea-4ade-b1cb-dab0a65ccba8"
      },
      "execution_count": 2,
      "outputs": [
        {
          "output_type": "stream",
          "name": "stdout",
          "text": [
            "Downloading data from https://storage.googleapis.com/tensorflow/tf-keras-datasets/mnist.npz\n",
            "11490434/11490434 [==============================] - 0s 0us/step\n"
          ]
        }
      ]
    },
    {
      "cell_type": "code",
      "source": [
        "x_train.shape"
      ],
      "metadata": {
        "colab": {
          "base_uri": "https://localhost:8080/"
        },
        "id": "yl9rkMy4LtDu",
        "outputId": "31076d52-5283-4105-87f2-060be55d3848"
      },
      "execution_count": 4,
      "outputs": [
        {
          "output_type": "execute_result",
          "data": {
            "text/plain": [
              "(60000, 28, 28)"
            ]
          },
          "metadata": {},
          "execution_count": 4
        }
      ]
    },
    {
      "cell_type": "code",
      "source": [
        "y_train.shape"
      ],
      "metadata": {
        "colab": {
          "base_uri": "https://localhost:8080/"
        },
        "id": "Ujh28hgEL10u",
        "outputId": "b1bde4c7-a2ad-4d7d-c7ef-e2f740f73754"
      },
      "execution_count": 5,
      "outputs": [
        {
          "output_type": "execute_result",
          "data": {
            "text/plain": [
              "(60000,)"
            ]
          },
          "metadata": {},
          "execution_count": 5
        }
      ]
    },
    {
      "cell_type": "code",
      "source": [
        "x_test.shape"
      ],
      "metadata": {
        "colab": {
          "base_uri": "https://localhost:8080/"
        },
        "id": "cMpKejqGL5Wn",
        "outputId": "87435214-1b44-4f7d-8e9b-9c10d169ea4f"
      },
      "execution_count": 6,
      "outputs": [
        {
          "output_type": "execute_result",
          "data": {
            "text/plain": [
              "(10000, 28, 28)"
            ]
          },
          "metadata": {},
          "execution_count": 6
        }
      ]
    },
    {
      "cell_type": "code",
      "source": [
        "y_test.shape"
      ],
      "metadata": {
        "colab": {
          "base_uri": "https://localhost:8080/"
        },
        "id": "1ieNe0eDL7fM",
        "outputId": "10ba2032-546a-4d40-866e-80ec477530c8"
      },
      "execution_count": 7,
      "outputs": [
        {
          "output_type": "execute_result",
          "data": {
            "text/plain": [
              "(10000,)"
            ]
          },
          "metadata": {},
          "execution_count": 7
        }
      ]
    },
    {
      "cell_type": "code",
      "source": [
        "input_channels = 1\n",
        "x_train = x_train.reshape(x_train.shape[0], x_train.shape[1], x_train.shape[2], input_channels)\n",
        "x_test = x_test.reshape(x_test.shape[0], x_test.shape[1], x_test.shape[2], input_channels)\n",
        "\n",
        "y_train = to_categorical(y_train, 10)\n",
        "y_test = to_categorical(y_test, 10)"
      ],
      "metadata": {
        "id": "8Q6EK101E3Rm"
      },
      "execution_count": 82,
      "outputs": []
    },
    {
      "cell_type": "code",
      "source": [
        "x_train = normalize(x_train, axis=1)\n",
        "x_test = normalize(x_test, axis=1)"
      ],
      "metadata": {
        "id": "-69Mg5VrNQxf"
      },
      "execution_count": 83,
      "outputs": []
    },
    {
      "cell_type": "code",
      "source": [
        "optimizer = HybridMPSOCNN(10, x_train, y_train, x_test, y_test)\n",
        "optimizer.run()"
      ],
      "metadata": {
        "colab": {
          "base_uri": "https://localhost:8080/",
          "height": 1000
        },
        "id": "aLtLyKX4V7mi",
        "outputId": "9215fd90-c669-43bd-db89-46a3bd7f107e"
      },
      "execution_count": 109,
      "outputs": [
        {
          "output_type": "stream",
          "name": "stdout",
          "text": [
            "469/469 [==============================] - 24s 49ms/step - loss: 1.7727 - accuracy: 0.3300\n",
            "313/313 [==============================] - 2s 6ms/step - loss: 1.2212 - accuracy: 0.5551\n",
            "469/469 [==============================] - 12s 23ms/step - loss: 2.3016 - accuracy: 0.1122\n",
            "313/313 [==============================] - 2s 6ms/step - loss: 2.3010 - accuracy: 0.1135\n",
            "469/469 [==============================] - 49s 102ms/step - loss: 2.3017 - accuracy: 0.1120\n",
            "313/313 [==============================] - 5s 15ms/step - loss: 2.3011 - accuracy: 0.1135\n",
            "469/469 [==============================] - 39s 82ms/step - loss: 2.2639 - accuracy: 0.1077\n",
            "313/313 [==============================] - 3s 9ms/step - loss: 2.1324 - accuracy: 0.2273\n",
            "469/469 [==============================] - 7s 13ms/step - loss: 2.2014 - accuracy: 0.1700\n",
            "313/313 [==============================] - 1s 3ms/step - loss: 2.1672 - accuracy: 0.1430\n",
            "469/469 [==============================] - 44s 92ms/step - loss: 1.5246 - accuracy: 0.4279\n",
            "313/313 [==============================] - 2s 5ms/step - loss: 1.1308 - accuracy: 0.5868\n",
            "469/469 [==============================] - 74s 157ms/step - loss: 1.4825 - accuracy: 0.4650\n",
            "313/313 [==============================] - 3s 8ms/step - loss: 0.8064 - accuracy: 0.7236\n",
            "469/469 [==============================] - 327s 500ms/step - loss: 2.3016 - accuracy: 0.1121\n",
            "313/313 [==============================] - 12s 37ms/step - loss: 2.3011 - accuracy: 0.1135\n",
            "469/469 [==============================] - 150s 319ms/step - loss: 2.3016 - accuracy: 0.1116\n",
            "313/313 [==============================] - 9s 27ms/step - loss: 2.3011 - accuracy: 0.1135\n",
            "469/469 [==============================] - 58s 122ms/step - loss: 1.9410 - accuracy: 0.2406\n",
            "313/313 [==============================] - 2s 6ms/step - loss: 1.6175 - accuracy: 0.3481\n",
            "469/469 [==============================] - 39s 80ms/step - loss: 1.5906 - accuracy: 0.4165\n",
            "313/313 [==============================] - 2s 6ms/step - loss: 1.0393 - accuracy: 0.6378\n",
            "469/469 [==============================] - 177s 375ms/step - loss: 0.9807 - accuracy: 0.6582\n",
            "313/313 [==============================] - 10s 31ms/step - loss: 0.2683 - accuracy: 0.9208\n",
            "469/469 [==============================] - 159s 337ms/step - loss: 1.2294 - accuracy: 0.5648\n",
            "313/313 [==============================] - 8s 25ms/step - loss: 0.2858 - accuracy: 0.9445\n",
            "469/469 [==============================] - 109s 230ms/step - loss: 1.9539 - accuracy: 0.2716\n",
            "313/313 [==============================] - 5s 16ms/step - loss: 1.6058 - accuracy: 0.4358\n",
            "469/469 [==============================] - 111s 234ms/step - loss: 1.4766 - accuracy: 0.4585\n",
            "313/313 [==============================] - 5s 16ms/step - loss: 0.5193 - accuracy: 0.8998\n",
            "469/469 [==============================] - 109s 232ms/step - loss: 1.4051 - accuracy: 0.4663\n",
            "313/313 [==============================] - 7s 21ms/step - loss: 0.4915 - accuracy: 0.9039\n",
            "469/469 [==============================] - 109s 230ms/step - loss: 1.3179 - accuracy: 0.5242\n",
            "313/313 [==============================] - 7s 21ms/step - loss: 0.4057 - accuracy: 0.9082\n",
            "469/469 [==============================] - 159s 338ms/step - loss: 1.1423 - accuracy: 0.5854\n",
            "313/313 [==============================] - 9s 27ms/step - loss: 0.3104 - accuracy: 0.9326\n",
            "469/469 [==============================] - 159s 338ms/step - loss: 1.3051 - accuracy: 0.5211\n",
            "313/313 [==============================] - 9s 27ms/step - loss: 0.3584 - accuracy: 0.9361\n",
            "469/469 [==============================] - 160s 340ms/step - loss: 1.3577 - accuracy: 0.4945\n",
            "313/313 [==============================] - 8s 26ms/step - loss: 0.5169 - accuracy: 0.8509\n",
            "469/469 [==============================] - 160s 340ms/step - loss: 1.2546 - accuracy: 0.5383\n",
            "313/313 [==============================] - 9s 28ms/step - loss: 0.3500 - accuracy: 0.9233\n",
            "469/469 [==============================] - 163s 346ms/step - loss: 1.5001 - accuracy: 0.4588\n",
            "313/313 [==============================] - 7s 23ms/step - loss: 0.4880 - accuracy: 0.8573\n",
            "469/469 [==============================] - 161s 341ms/step - loss: 1.3233 - accuracy: 0.5101\n",
            "313/313 [==============================] - 7s 23ms/step - loss: 0.4876 - accuracy: 0.8665\n",
            "469/469 [==============================] - 159s 338ms/step - loss: 1.4168 - accuracy: 0.4409\n",
            "313/313 [==============================] - 9s 28ms/step - loss: 0.5093 - accuracy: 0.8840\n",
            "469/469 [==============================] - 161s 341ms/step - loss: 1.2438 - accuracy: 0.5405\n",
            "313/313 [==============================] - 9s 27ms/step - loss: 0.3259 - accuracy: 0.9364\n",
            " 34/469 [=>............................] - ETA: 2:30 - loss: 2.2737 - accuracy: 0.1261"
          ]
        },
        {
          "output_type": "error",
          "ename": "KeyboardInterrupt",
          "evalue": "ignored",
          "traceback": [
            "\u001b[0;31m---------------------------------------------------------------------------\u001b[0m",
            "\u001b[0;31mKeyboardInterrupt\u001b[0m                         Traceback (most recent call last)",
            "\u001b[0;32m<ipython-input-109-6e13ef2e138f>\u001b[0m in \u001b[0;36m<cell line: 2>\u001b[0;34m()\u001b[0m\n\u001b[1;32m      1\u001b[0m \u001b[0moptimizer\u001b[0m \u001b[0;34m=\u001b[0m \u001b[0mHybridMPSOCNN\u001b[0m\u001b[0;34m(\u001b[0m\u001b[0;36m10\u001b[0m\u001b[0;34m,\u001b[0m \u001b[0mx_train\u001b[0m\u001b[0;34m,\u001b[0m \u001b[0my_train\u001b[0m\u001b[0;34m,\u001b[0m \u001b[0mx_test\u001b[0m\u001b[0;34m,\u001b[0m \u001b[0my_test\u001b[0m\u001b[0;34m)\u001b[0m\u001b[0;34m\u001b[0m\u001b[0;34m\u001b[0m\u001b[0m\n\u001b[0;32m----> 2\u001b[0;31m \u001b[0moptimizer\u001b[0m\u001b[0;34m.\u001b[0m\u001b[0mrun\u001b[0m\u001b[0;34m(\u001b[0m\u001b[0;34m)\u001b[0m\u001b[0;34m\u001b[0m\u001b[0;34m\u001b[0m\u001b[0m\n\u001b[0m",
            "\u001b[0;32m<ipython-input-93-b905fb82cf1a>\u001b[0m in \u001b[0;36mrun\u001b[0;34m(self)\u001b[0m\n\u001b[1;32m     18\u001b[0m                 \u001b[0mnP\u001b[0m \u001b[0;34m=\u001b[0m \u001b[0mparticle\u001b[0m\u001b[0;34m.\u001b[0m\u001b[0mnP\u001b[0m\u001b[0;34m\u001b[0m\u001b[0;34m\u001b[0m\u001b[0m\n\u001b[1;32m     19\u001b[0m                 \u001b[0mnF\u001b[0m \u001b[0;34m=\u001b[0m \u001b[0mparticle\u001b[0m\u001b[0;34m.\u001b[0m\u001b[0mnF\u001b[0m\u001b[0;34m\u001b[0m\u001b[0;34m\u001b[0m\u001b[0m\n\u001b[0;32m---> 20\u001b[0;31m                 \u001b[0mbest_particle\u001b[0m \u001b[0;34m=\u001b[0m \u001b[0mparticle\u001b[0m\u001b[0;34m.\u001b[0m\u001b[0mcalculate_pbest\u001b[0m\u001b[0;34m(\u001b[0m\u001b[0mself\u001b[0m\u001b[0;34m.\u001b[0m\u001b[0mnumber_of_classes\u001b[0m\u001b[0;34m,\u001b[0m \u001b[0mself\u001b[0m\u001b[0;34m.\u001b[0m\u001b[0mx_train\u001b[0m\u001b[0;34m,\u001b[0m \u001b[0mself\u001b[0m\u001b[0;34m.\u001b[0m\u001b[0my_train\u001b[0m\u001b[0;34m,\u001b[0m \u001b[0mself\u001b[0m\u001b[0;34m.\u001b[0m\u001b[0mx_test\u001b[0m\u001b[0;34m,\u001b[0m \u001b[0mself\u001b[0m\u001b[0;34m.\u001b[0m\u001b[0my_test\u001b[0m\u001b[0;34m)\u001b[0m\u001b[0;34m\u001b[0m\u001b[0;34m\u001b[0m\u001b[0m\n\u001b[0m\u001b[1;32m     21\u001b[0m                 \u001b[0;32mif\u001b[0m \u001b[0mbest_particle\u001b[0m\u001b[0;34m.\u001b[0m\u001b[0mfitness\u001b[0m \u001b[0;34m>\u001b[0m \u001b[0mparticle\u001b[0m\u001b[0;34m.\u001b[0m\u001b[0mgetFitness\u001b[0m\u001b[0;34m(\u001b[0m\u001b[0;34m)\u001b[0m\u001b[0;34m:\u001b[0m\u001b[0;34m\u001b[0m\u001b[0;34m\u001b[0m\u001b[0m\n\u001b[1;32m     22\u001b[0m                     \u001b[0mparticle\u001b[0m\u001b[0;34m.\u001b[0m\u001b[0mnC_best\u001b[0m \u001b[0;34m=\u001b[0m \u001b[0mnC\u001b[0m\u001b[0;34m\u001b[0m\u001b[0;34m\u001b[0m\u001b[0m\n",
            "\u001b[0;32m<ipython-input-107-cada52fda6dc>\u001b[0m in \u001b[0;36mcalculate_pbest\u001b[0;34m(self, number_of_classes, x_train, y_train, x_test, y_test)\u001b[0m\n\u001b[1;32m     99\u001b[0m                 \u001b[0mcnn\u001b[0m\u001b[0;34m.\u001b[0m\u001b[0madd\u001b[0m\u001b[0;34m(\u001b[0m\u001b[0mDense\u001b[0m\u001b[0;34m(\u001b[0m\u001b[0mnumber_of_classes\u001b[0m\u001b[0;34m,\u001b[0m \u001b[0mactivation\u001b[0m\u001b[0;34m=\u001b[0m\u001b[0;34m'softmax'\u001b[0m\u001b[0;34m)\u001b[0m\u001b[0;34m)\u001b[0m\u001b[0;34m\u001b[0m\u001b[0;34m\u001b[0m\u001b[0m\n\u001b[1;32m    100\u001b[0m                 \u001b[0mcnn\u001b[0m\u001b[0;34m.\u001b[0m\u001b[0mcompile\u001b[0m\u001b[0;34m(\u001b[0m\u001b[0mloss\u001b[0m\u001b[0;34m=\u001b[0m\u001b[0;34m'categorical_crossentropy'\u001b[0m\u001b[0;34m,\u001b[0m \u001b[0mmetrics\u001b[0m\u001b[0;34m=\u001b[0m\u001b[0;34m'accuracy'\u001b[0m\u001b[0;34m)\u001b[0m\u001b[0;34m\u001b[0m\u001b[0;34m\u001b[0m\u001b[0m\n\u001b[0;32m--> 101\u001b[0;31m                 \u001b[0mcnn\u001b[0m\u001b[0;34m.\u001b[0m\u001b[0mfit\u001b[0m\u001b[0;34m(\u001b[0m\u001b[0mx_train\u001b[0m\u001b[0;34m,\u001b[0m \u001b[0my_train\u001b[0m\u001b[0;34m,\u001b[0m \u001b[0mbatch_size\u001b[0m\u001b[0;34m=\u001b[0m\u001b[0;36m128\u001b[0m\u001b[0;34m)\u001b[0m\u001b[0;34m\u001b[0m\u001b[0;34m\u001b[0m\u001b[0m\n\u001b[0m\u001b[1;32m    102\u001b[0m                 \u001b[0mloss\u001b[0m\u001b[0;34m,\u001b[0m \u001b[0maccuracy\u001b[0m \u001b[0;34m=\u001b[0m \u001b[0mcnn\u001b[0m\u001b[0;34m.\u001b[0m\u001b[0mevaluate\u001b[0m\u001b[0;34m(\u001b[0m\u001b[0mx_test\u001b[0m\u001b[0;34m,\u001b[0m \u001b[0my_test\u001b[0m\u001b[0;34m)\u001b[0m\u001b[0;34m\u001b[0m\u001b[0;34m\u001b[0m\u001b[0m\n\u001b[1;32m    103\u001b[0m                 \u001b[0;32mif\u001b[0m \u001b[0maccuracy\u001b[0m \u001b[0;34m>\u001b[0m \u001b[0mparticle\u001b[0m\u001b[0;34m.\u001b[0m\u001b[0mfitness\u001b[0m\u001b[0;34m:\u001b[0m\u001b[0;34m\u001b[0m\u001b[0;34m\u001b[0m\u001b[0m\n",
            "\u001b[0;32m/usr/local/lib/python3.10/dist-packages/keras/utils/traceback_utils.py\u001b[0m in \u001b[0;36merror_handler\u001b[0;34m(*args, **kwargs)\u001b[0m\n\u001b[1;32m     63\u001b[0m         \u001b[0mfiltered_tb\u001b[0m \u001b[0;34m=\u001b[0m \u001b[0;32mNone\u001b[0m\u001b[0;34m\u001b[0m\u001b[0;34m\u001b[0m\u001b[0m\n\u001b[1;32m     64\u001b[0m         \u001b[0;32mtry\u001b[0m\u001b[0;34m:\u001b[0m\u001b[0;34m\u001b[0m\u001b[0;34m\u001b[0m\u001b[0m\n\u001b[0;32m---> 65\u001b[0;31m             \u001b[0;32mreturn\u001b[0m \u001b[0mfn\u001b[0m\u001b[0;34m(\u001b[0m\u001b[0;34m*\u001b[0m\u001b[0margs\u001b[0m\u001b[0;34m,\u001b[0m \u001b[0;34m**\u001b[0m\u001b[0mkwargs\u001b[0m\u001b[0;34m)\u001b[0m\u001b[0;34m\u001b[0m\u001b[0;34m\u001b[0m\u001b[0m\n\u001b[0m\u001b[1;32m     66\u001b[0m         \u001b[0;32mexcept\u001b[0m \u001b[0mException\u001b[0m \u001b[0;32mas\u001b[0m \u001b[0me\u001b[0m\u001b[0;34m:\u001b[0m\u001b[0;34m\u001b[0m\u001b[0;34m\u001b[0m\u001b[0m\n\u001b[1;32m     67\u001b[0m             \u001b[0mfiltered_tb\u001b[0m \u001b[0;34m=\u001b[0m \u001b[0m_process_traceback_frames\u001b[0m\u001b[0;34m(\u001b[0m\u001b[0me\u001b[0m\u001b[0;34m.\u001b[0m\u001b[0m__traceback__\u001b[0m\u001b[0;34m)\u001b[0m\u001b[0;34m\u001b[0m\u001b[0;34m\u001b[0m\u001b[0m\n",
            "\u001b[0;32m/usr/local/lib/python3.10/dist-packages/keras/engine/training.py\u001b[0m in \u001b[0;36mfit\u001b[0;34m(self, x, y, batch_size, epochs, verbose, callbacks, validation_split, validation_data, shuffle, class_weight, sample_weight, initial_epoch, steps_per_epoch, validation_steps, validation_batch_size, validation_freq, max_queue_size, workers, use_multiprocessing)\u001b[0m\n\u001b[1;32m   1683\u001b[0m                         ):\n\u001b[1;32m   1684\u001b[0m                             \u001b[0mcallbacks\u001b[0m\u001b[0;34m.\u001b[0m\u001b[0mon_train_batch_begin\u001b[0m\u001b[0;34m(\u001b[0m\u001b[0mstep\u001b[0m\u001b[0;34m)\u001b[0m\u001b[0;34m\u001b[0m\u001b[0;34m\u001b[0m\u001b[0m\n\u001b[0;32m-> 1685\u001b[0;31m                             \u001b[0mtmp_logs\u001b[0m \u001b[0;34m=\u001b[0m \u001b[0mself\u001b[0m\u001b[0;34m.\u001b[0m\u001b[0mtrain_function\u001b[0m\u001b[0;34m(\u001b[0m\u001b[0miterator\u001b[0m\u001b[0;34m)\u001b[0m\u001b[0;34m\u001b[0m\u001b[0;34m\u001b[0m\u001b[0m\n\u001b[0m\u001b[1;32m   1686\u001b[0m                             \u001b[0;32mif\u001b[0m \u001b[0mdata_handler\u001b[0m\u001b[0;34m.\u001b[0m\u001b[0mshould_sync\u001b[0m\u001b[0;34m:\u001b[0m\u001b[0;34m\u001b[0m\u001b[0;34m\u001b[0m\u001b[0m\n\u001b[1;32m   1687\u001b[0m                                 \u001b[0mcontext\u001b[0m\u001b[0;34m.\u001b[0m\u001b[0masync_wait\u001b[0m\u001b[0;34m(\u001b[0m\u001b[0;34m)\u001b[0m\u001b[0;34m\u001b[0m\u001b[0;34m\u001b[0m\u001b[0m\n",
            "\u001b[0;32m/usr/local/lib/python3.10/dist-packages/tensorflow/python/util/traceback_utils.py\u001b[0m in \u001b[0;36merror_handler\u001b[0;34m(*args, **kwargs)\u001b[0m\n\u001b[1;32m    148\u001b[0m     \u001b[0mfiltered_tb\u001b[0m \u001b[0;34m=\u001b[0m \u001b[0;32mNone\u001b[0m\u001b[0;34m\u001b[0m\u001b[0;34m\u001b[0m\u001b[0m\n\u001b[1;32m    149\u001b[0m     \u001b[0;32mtry\u001b[0m\u001b[0;34m:\u001b[0m\u001b[0;34m\u001b[0m\u001b[0;34m\u001b[0m\u001b[0m\n\u001b[0;32m--> 150\u001b[0;31m       \u001b[0;32mreturn\u001b[0m \u001b[0mfn\u001b[0m\u001b[0;34m(\u001b[0m\u001b[0;34m*\u001b[0m\u001b[0margs\u001b[0m\u001b[0;34m,\u001b[0m \u001b[0;34m**\u001b[0m\u001b[0mkwargs\u001b[0m\u001b[0;34m)\u001b[0m\u001b[0;34m\u001b[0m\u001b[0;34m\u001b[0m\u001b[0m\n\u001b[0m\u001b[1;32m    151\u001b[0m     \u001b[0;32mexcept\u001b[0m \u001b[0mException\u001b[0m \u001b[0;32mas\u001b[0m \u001b[0me\u001b[0m\u001b[0;34m:\u001b[0m\u001b[0;34m\u001b[0m\u001b[0;34m\u001b[0m\u001b[0m\n\u001b[1;32m    152\u001b[0m       \u001b[0mfiltered_tb\u001b[0m \u001b[0;34m=\u001b[0m \u001b[0m_process_traceback_frames\u001b[0m\u001b[0;34m(\u001b[0m\u001b[0me\u001b[0m\u001b[0;34m.\u001b[0m\u001b[0m__traceback__\u001b[0m\u001b[0;34m)\u001b[0m\u001b[0;34m\u001b[0m\u001b[0;34m\u001b[0m\u001b[0m\n",
            "\u001b[0;32m/usr/local/lib/python3.10/dist-packages/tensorflow/python/eager/polymorphic_function/polymorphic_function.py\u001b[0m in \u001b[0;36m__call__\u001b[0;34m(self, *args, **kwds)\u001b[0m\n\u001b[1;32m    892\u001b[0m \u001b[0;34m\u001b[0m\u001b[0m\n\u001b[1;32m    893\u001b[0m       \u001b[0;32mwith\u001b[0m \u001b[0mOptionalXlaContext\u001b[0m\u001b[0;34m(\u001b[0m\u001b[0mself\u001b[0m\u001b[0;34m.\u001b[0m\u001b[0m_jit_compile\u001b[0m\u001b[0;34m)\u001b[0m\u001b[0;34m:\u001b[0m\u001b[0;34m\u001b[0m\u001b[0;34m\u001b[0m\u001b[0m\n\u001b[0;32m--> 894\u001b[0;31m         \u001b[0mresult\u001b[0m \u001b[0;34m=\u001b[0m \u001b[0mself\u001b[0m\u001b[0;34m.\u001b[0m\u001b[0m_call\u001b[0m\u001b[0;34m(\u001b[0m\u001b[0;34m*\u001b[0m\u001b[0margs\u001b[0m\u001b[0;34m,\u001b[0m \u001b[0;34m**\u001b[0m\u001b[0mkwds\u001b[0m\u001b[0;34m)\u001b[0m\u001b[0;34m\u001b[0m\u001b[0;34m\u001b[0m\u001b[0m\n\u001b[0m\u001b[1;32m    895\u001b[0m \u001b[0;34m\u001b[0m\u001b[0m\n\u001b[1;32m    896\u001b[0m       \u001b[0mnew_tracing_count\u001b[0m \u001b[0;34m=\u001b[0m \u001b[0mself\u001b[0m\u001b[0;34m.\u001b[0m\u001b[0mexperimental_get_tracing_count\u001b[0m\u001b[0;34m(\u001b[0m\u001b[0;34m)\u001b[0m\u001b[0;34m\u001b[0m\u001b[0;34m\u001b[0m\u001b[0m\n",
            "\u001b[0;32m/usr/local/lib/python3.10/dist-packages/tensorflow/python/eager/polymorphic_function/polymorphic_function.py\u001b[0m in \u001b[0;36m_call\u001b[0;34m(self, *args, **kwds)\u001b[0m\n\u001b[1;32m    924\u001b[0m       \u001b[0;31m# In this case we have created variables on the first call, so we run the\u001b[0m\u001b[0;34m\u001b[0m\u001b[0;34m\u001b[0m\u001b[0m\n\u001b[1;32m    925\u001b[0m       \u001b[0;31m# defunned version which is guaranteed to never create variables.\u001b[0m\u001b[0;34m\u001b[0m\u001b[0;34m\u001b[0m\u001b[0m\n\u001b[0;32m--> 926\u001b[0;31m       \u001b[0;32mreturn\u001b[0m \u001b[0mself\u001b[0m\u001b[0;34m.\u001b[0m\u001b[0m_no_variable_creation_fn\u001b[0m\u001b[0;34m(\u001b[0m\u001b[0;34m*\u001b[0m\u001b[0margs\u001b[0m\u001b[0;34m,\u001b[0m \u001b[0;34m**\u001b[0m\u001b[0mkwds\u001b[0m\u001b[0;34m)\u001b[0m  \u001b[0;31m# pylint: disable=not-callable\u001b[0m\u001b[0;34m\u001b[0m\u001b[0;34m\u001b[0m\u001b[0m\n\u001b[0m\u001b[1;32m    927\u001b[0m     \u001b[0;32melif\u001b[0m \u001b[0mself\u001b[0m\u001b[0;34m.\u001b[0m\u001b[0m_variable_creation_fn\u001b[0m \u001b[0;32mis\u001b[0m \u001b[0;32mnot\u001b[0m \u001b[0;32mNone\u001b[0m\u001b[0;34m:\u001b[0m\u001b[0;34m\u001b[0m\u001b[0;34m\u001b[0m\u001b[0m\n\u001b[1;32m    928\u001b[0m       \u001b[0;31m# Release the lock early so that multiple threads can perform the call\u001b[0m\u001b[0;34m\u001b[0m\u001b[0;34m\u001b[0m\u001b[0m\n",
            "\u001b[0;32m/usr/local/lib/python3.10/dist-packages/tensorflow/python/eager/polymorphic_function/tracing_compiler.py\u001b[0m in \u001b[0;36m__call__\u001b[0;34m(self, *args, **kwargs)\u001b[0m\n\u001b[1;32m    141\u001b[0m       (concrete_function,\n\u001b[1;32m    142\u001b[0m        filtered_flat_args) = self._maybe_define_function(args, kwargs)\n\u001b[0;32m--> 143\u001b[0;31m     return concrete_function._call_flat(\n\u001b[0m\u001b[1;32m    144\u001b[0m         filtered_flat_args, captured_inputs=concrete_function.captured_inputs)  # pylint: disable=protected-access\n\u001b[1;32m    145\u001b[0m \u001b[0;34m\u001b[0m\u001b[0m\n",
            "\u001b[0;32m/usr/local/lib/python3.10/dist-packages/tensorflow/python/eager/polymorphic_function/monomorphic_function.py\u001b[0m in \u001b[0;36m_call_flat\u001b[0;34m(self, args, captured_inputs, cancellation_manager)\u001b[0m\n\u001b[1;32m   1755\u001b[0m         and executing_eagerly):\n\u001b[1;32m   1756\u001b[0m       \u001b[0;31m# No tape is watching; skip to running the function.\u001b[0m\u001b[0;34m\u001b[0m\u001b[0;34m\u001b[0m\u001b[0m\n\u001b[0;32m-> 1757\u001b[0;31m       return self._build_call_outputs(self._inference_function.call(\n\u001b[0m\u001b[1;32m   1758\u001b[0m           ctx, args, cancellation_manager=cancellation_manager))\n\u001b[1;32m   1759\u001b[0m     forward_backward = self._select_forward_and_backward_functions(\n",
            "\u001b[0;32m/usr/local/lib/python3.10/dist-packages/tensorflow/python/eager/polymorphic_function/monomorphic_function.py\u001b[0m in \u001b[0;36mcall\u001b[0;34m(self, ctx, args, cancellation_manager)\u001b[0m\n\u001b[1;32m    379\u001b[0m       \u001b[0;32mwith\u001b[0m \u001b[0m_InterpolateFunctionError\u001b[0m\u001b[0;34m(\u001b[0m\u001b[0mself\u001b[0m\u001b[0;34m)\u001b[0m\u001b[0;34m:\u001b[0m\u001b[0;34m\u001b[0m\u001b[0;34m\u001b[0m\u001b[0m\n\u001b[1;32m    380\u001b[0m         \u001b[0;32mif\u001b[0m \u001b[0mcancellation_manager\u001b[0m \u001b[0;32mis\u001b[0m \u001b[0;32mNone\u001b[0m\u001b[0;34m:\u001b[0m\u001b[0;34m\u001b[0m\u001b[0;34m\u001b[0m\u001b[0m\n\u001b[0;32m--> 381\u001b[0;31m           outputs = execute.execute(\n\u001b[0m\u001b[1;32m    382\u001b[0m               \u001b[0mstr\u001b[0m\u001b[0;34m(\u001b[0m\u001b[0mself\u001b[0m\u001b[0;34m.\u001b[0m\u001b[0msignature\u001b[0m\u001b[0;34m.\u001b[0m\u001b[0mname\u001b[0m\u001b[0;34m)\u001b[0m\u001b[0;34m,\u001b[0m\u001b[0;34m\u001b[0m\u001b[0;34m\u001b[0m\u001b[0m\n\u001b[1;32m    383\u001b[0m               \u001b[0mnum_outputs\u001b[0m\u001b[0;34m=\u001b[0m\u001b[0mself\u001b[0m\u001b[0;34m.\u001b[0m\u001b[0m_num_outputs\u001b[0m\u001b[0;34m,\u001b[0m\u001b[0;34m\u001b[0m\u001b[0;34m\u001b[0m\u001b[0m\n",
            "\u001b[0;32m/usr/local/lib/python3.10/dist-packages/tensorflow/python/eager/execute.py\u001b[0m in \u001b[0;36mquick_execute\u001b[0;34m(op_name, num_outputs, inputs, attrs, ctx, name)\u001b[0m\n\u001b[1;32m     50\u001b[0m   \u001b[0;32mtry\u001b[0m\u001b[0;34m:\u001b[0m\u001b[0;34m\u001b[0m\u001b[0;34m\u001b[0m\u001b[0m\n\u001b[1;32m     51\u001b[0m     \u001b[0mctx\u001b[0m\u001b[0;34m.\u001b[0m\u001b[0mensure_initialized\u001b[0m\u001b[0;34m(\u001b[0m\u001b[0;34m)\u001b[0m\u001b[0;34m\u001b[0m\u001b[0;34m\u001b[0m\u001b[0m\n\u001b[0;32m---> 52\u001b[0;31m     tensors = pywrap_tfe.TFE_Py_Execute(ctx._handle, device_name, op_name,\n\u001b[0m\u001b[1;32m     53\u001b[0m                                         inputs, attrs, num_outputs)\n\u001b[1;32m     54\u001b[0m   \u001b[0;32mexcept\u001b[0m \u001b[0mcore\u001b[0m\u001b[0;34m.\u001b[0m\u001b[0m_NotOkStatusException\u001b[0m \u001b[0;32mas\u001b[0m \u001b[0me\u001b[0m\u001b[0;34m:\u001b[0m\u001b[0;34m\u001b[0m\u001b[0;34m\u001b[0m\u001b[0m\n",
            "\u001b[0;31mKeyboardInterrupt\u001b[0m: "
          ]
        }
      ]
    }
  ]
}