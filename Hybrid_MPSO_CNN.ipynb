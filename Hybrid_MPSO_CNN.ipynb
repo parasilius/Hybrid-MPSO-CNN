{
  "cells": [
    {
      "cell_type": "markdown",
      "metadata": {
        "id": "JtrnEm1LBsNe"
      },
      "source": [
        "# Importing Libraries"
      ]
    },
    {
      "cell_type": "code",
      "execution_count": 1,
      "metadata": {
        "id": "OZvT1CIZLK2W"
      },
      "outputs": [],
      "source": [
        "from random import randint, random\n",
        "from tensorflow.keras.models import Sequential\n",
        "from tensorflow.keras.layers import Conv2D, MaxPooling2D, Dense, Flatten, Dropout\n",
        "from math import e\n",
        "from tensorflow.keras.datasets import mnist\n",
        "from tensorflow.keras.utils import normalize, to_categorical\n",
        "import time\n",
        "import numpy as np"
      ]
    },
    {
      "cell_type": "markdown",
      "metadata": {
        "id": "TS40uNMeB16f"
      },
      "source": [
        "# Hybrid MPSO"
      ]
    },
    {
      "cell_type": "code",
      "execution_count": 2,
      "metadata": {
        "id": "M8YSZSwHBzPE"
      },
      "outputs": [],
      "source": [
        "# padding mapping\n",
        "m_padding = {\n",
        "    0: 'valid',\n",
        "    1: 'same'\n",
        "}"
      ]
    },
    {
      "cell_type": "code",
      "execution_count": 3,
      "metadata": {
        "id": "ljBTfi96B_Fe"
      },
      "outputs": [],
      "source": [
        "def calculate_omega(t, t_max, a=0.2):\n",
        "    if t < a * t_max:\n",
        "        return 0.9\n",
        "    return 1 / (1 + e ** ((10 * t - t_max) / t_max))"
      ]
    },
    {
      "cell_type": "code",
      "execution_count": 4,
      "metadata": {
        "id": "2Bm0UfDZDipG"
      },
      "outputs": [],
      "source": [
        "class Particle1:\n",
        "    def __init__(self, n) -> None:\n",
        "        self.n = n\n",
        "        self.nC = randint(1, 5)       # Number of convolutional layers (nC)\n",
        "        self.nP = randint(1, self.nC) # Number of pooling layers (nP)\n",
        "        self.nF = randint(1, self.nC) # Number of fully connected layers (nF)\n",
        "        self.v_nC = randint(1 - self.nC, 5 - self.nC)\n",
        "        self.v_nP = randint(1 - self.nP, 5 - self.nP)\n",
        "        self.v_nF = randint(1 - self.nF, 5 - self.nF)\n",
        "        self.nC_best = self.nC\n",
        "        self.nP_best = self.nP\n",
        "        self.nF_best = self.nF\n",
        "        self.best_particle = None\n",
        "        self.swarm_sl2 = [Particle2()] * self.n\n",
        "    \n",
        "    def getFitness(self):\n",
        "        if self.best_particle:\n",
        "            return self.best_particle.fitness\n",
        "        return float('-inf')\n",
        "    \n",
        "    def updatePosition(self):\n",
        "        self.nC = int(self.nC + self.v_nC)\n",
        "        self.nP = int(self.nP + self.v_nP)\n",
        "        self.nF = int(self.nF + self.v_nF)\n",
        "    \n",
        "    def updateVelocity(self, w, c1=2, c2=2):\n",
        "        r1 = random()\n",
        "        r2 = random()\n",
        "        # updating v_nC\n",
        "        self.v_nC = w * self.v_nC + c1 * r1 * (self.nC_best - self.nC) + c2 * r2 * (self.nC_best - self.nC)\n",
        "        v_nC_max = 5 - self.nC\n",
        "        if self.v_nC > v_nC_max:\n",
        "            self.v_nC = v_nC_max\n",
        "        v_nC_min = 1 - self.nC\n",
        "        if self.v_nC < v_nC_min:\n",
        "            self.v_nC = v_nC_min\n",
        "        # updating v_nP\n",
        "        self.v_nP = w * self.v_nP + c1 * r1 * (self.nP_best - self.nP) + c2 * r2 * (self.nP_best - self.nP)\n",
        "        v_nP_max = self.nC - self.nP\n",
        "        if self.v_nP > v_nP_max:\n",
        "            self.v_nP = v_nP_max\n",
        "        v_nP_min = 1 - self.nP\n",
        "        if self.v_nP < v_nP_min:\n",
        "            self.v_nP = v_nP_min\n",
        "        # updating v_nF\n",
        "        self.v_nF = w * self.v_nF + c1 * r1 * (self.nF_best - self.nF) + c2 * r2 * (self.nF_best - self.nF)\n",
        "        v_nF_max = self.nC - self.nF\n",
        "        if self.v_nF > v_nF_max:\n",
        "            self.v_nF = v_nF_max\n",
        "        v_nF_min = 1 - self.nF\n",
        "        if self.v_nF < v_nF_min:\n",
        "            self.v_nF = v_nF_min\n",
        "\n",
        "    def calculate_pbest(self, number_of_classes, x_train, y_train, x_test, y_test): # based on algorithm 3\n",
        "        cnn_counter = 0\n",
        "        cnns_trained_time = 0\n",
        "        best_particle = None\n",
        "        # t_max = 5\n",
        "        t_max = 3\n",
        "        for t in range(t_max):\n",
        "            for particle in self.swarm_sl2:\n",
        "                c_nf = particle.c_nf\n",
        "                c_fs = particle.c_fs if particle.c_fs % 2 == 1 else particle.c_fs - 1\n",
        "                c_pp = particle.c_pp\n",
        "                c_ss = particle.c_ss\n",
        "                p_fs = particle.p_fs\n",
        "                p_ss = particle.p_ss\n",
        "                p_pp = particle.p_pp\n",
        "                op   = particle.op\n",
        "                cnn = Sequential()\n",
        "                nC_counter = 0\n",
        "                nP_counter = 0\n",
        "                try:\n",
        "                    print('cnn')\n",
        "                    while nP_counter != self.nP and nC_counter != self.nC:\n",
        "                        if nC_counter != self.nC:\n",
        "                            if nC_counter == 0:\n",
        "                                cnn.add(Conv2D(c_nf,\n",
        "                                               c_fs,\n",
        "                                               padding=m_padding[c_pp],\n",
        "                                               strides=c_ss,\n",
        "                                               activation='relu',\n",
        "                                               input_shape=(28, 28, 1)))\n",
        "                            else:\n",
        "                                cnn.add(Conv2D(c_nf * 2 ** (nC_counter),\n",
        "                                               c_fs,\n",
        "                                               padding=m_padding[c_pp],\n",
        "                                               strides=c_ss,\n",
        "                                               activation='relu')) \n",
        "                            nC_counter += 1\n",
        "                        if nP_counter != self.nP:\n",
        "                            cnn.add(MaxPooling2D(pool_size=p_fs,\n",
        "                                                 strides=p_ss,\n",
        "                                                 padding=m_padding[p_pp]))\n",
        "                            nP_counter += 1\n",
        "                    cnn.add(Flatten())\n",
        "                    for _ in range(self.nF):\n",
        "                        cnn.add(Dropout(0.2))\n",
        "                        cnn.add(Dense(op, activation='relu'))\n",
        "                    cnn.add(Dropout(0.2))\n",
        "                    cnn.add(Dense(number_of_classes, activation='softmax'))\n",
        "                    start_time = time.time()\n",
        "                    cnn.compile(loss='categorical_crossentropy', metrics='accuracy')\n",
        "                    cnn.fit(x_train, y_train, batch_size=128)\n",
        "                    cnns_trained_time += time.time() - start_time\n",
        "                    cnn_counter += 1\n",
        "                    loss, accuracy = cnn.evaluate(x_test, y_test)\n",
        "                except:\n",
        "                    accuracy = float('-inf')\n",
        "                if accuracy > particle.fitness:\n",
        "                    particle.fitness = accuracy\n",
        "                    particle.c_nf_best = c_nf\n",
        "                    particle.c_fs_best = c_fs\n",
        "                    particle.c_pp_best = c_pp\n",
        "                    particle.c_ss_best = c_ss\n",
        "                    particle.p_fs_best = p_fs\n",
        "                    particle.p_ss_best = p_ss\n",
        "                    particle.p_pp_best = p_pp\n",
        "                    particle.op_best = op\n",
        "                if not best_particle or accuracy > best_particle.fitness:\n",
        "                    best_particle = particle\n",
        "                w = calculate_omega(t, t_max)\n",
        "                particle.updateVelocity(w, best_particle)\n",
        "                particle.updatePosition()\n",
        "        return best_particle, cnn_counter, cnns_trained_time"
      ]
    },
    {
      "cell_type": "code",
      "execution_count": 5,
      "metadata": {
        "id": "NaTYHh5NVxyy"
      },
      "outputs": [],
      "source": [
        "class Particle2:\n",
        "    def __init__(self):\n",
        "        self.c_nf   = randint(1, 64)                                            # Number of ﬁlters (c_nf)\n",
        "        self.c_fs   = randint(1, 13)                                            # Filter Size (c_fs) (odd)\n",
        "        self.c_pp   = randint(0, 1)                                             # Padding pixels (c_pp)\n",
        "        self.c_ss   = randint(1, 5) if self.c_fs > 5 else randint(1, self.c_fs) # Stride Size (c_ss)(<c_fs)\n",
        "        self.p_fs   = randint(1, 13)                                            # Filter Size (p_fs)(odd)\n",
        "        self.p_ss   = randint(1, 5)                                             # Stride Size (p_ss)\n",
        "        self.p_pp   = randint(0, 1)                                             # Padding pixels (p_pp) \n",
        "        self.op     = randint(1, 1024)                                          # Number of neurons (op)\n",
        "        self.v_c_nf = randint(1 - self.c_nf, 64 - self.c_nf) \n",
        "        self.v_c_fs = randint(1 - self.c_fs, 13 - self.c_fs)\n",
        "        self.v_c_pp = randint(0 - self.c_pp, 1 - self.c_pp)\n",
        "        if self.c_fs > 5:\n",
        "            self.v_c_ss = randint(1 - self.c_ss, 4 - self.c_ss)\n",
        "        else:\n",
        "            self.v_c_ss = randint(1 - self.c_ss, self.c_fs - self.c_ss)\n",
        "        self.v_p_fs = randint(1 - self.p_fs, 13 - self.p_fs)\n",
        "        self.v_p_ss = randint(1 - self.p_ss, 5 - self.p_ss)\n",
        "        if self.p_fs > 2:\n",
        "            self.v_p_pp = randint(0 - self.p_pp, 1 - self.p_pp)\n",
        "        else:\n",
        "            self.v_p_pp = randint(0 - self.p_pp, self.p_fs - self.p_pp)\n",
        "        self.v_op = randint(1 - self.op, 1024 - self.op)\n",
        "        self.c_nf_best = self.c_nf\n",
        "        self.c_fs_best = self.c_fs\n",
        "        self.c_pp_best = self.c_pp\n",
        "        self.c_ss_best = self.c_ss\n",
        "        self.p_fs_best = self.p_fs\n",
        "        self.p_ss_best = self.p_ss\n",
        "        self.p_pp_best = self.p_pp\n",
        "        self.op_best = self.op\n",
        "        self.fitness = float('-inf')\n",
        "    \n",
        "    def updatePosition(self):\n",
        "        self.c_nf = int(self.c_nf + self.v_c_nf)\n",
        "        self.c_fs = int(self.c_fs + self.v_c_fs)\n",
        "        self.c_pp = int(self.c_pp + self.v_c_pp)\n",
        "        self.c_ss = int(self.c_ss + self.v_c_ss)\n",
        "        self.p_fs = int(self.p_fs + self.v_p_fs)\n",
        "        self.p_ss = int(self.p_ss + self.v_p_ss)\n",
        "        self.p_pp = int(self.p_pp + self.v_p_pp)\n",
        "        self.op   = int(self.op + self.v_op)\n",
        "    \n",
        "    def updateVelocity(self, w, best_particle, c1=2, c2=2):\n",
        "        r1 = random()\n",
        "        r2 = random()\n",
        "        # updating v_c_nf\n",
        "        self.v_c_nf = w * self.v_c_nf + c1 * r1 * (self.c_nf_best - self.c_nf) + c2 * r2 * (best_particle.c_nf_best - self.c_nf)\n",
        "        v_c_nf_max = 64 - self.c_nf\n",
        "        if self.v_c_nf > v_c_nf_max:\n",
        "            self.v_c_nf = v_c_nf_max\n",
        "        v_c_nf_min = 1 - self.c_nf\n",
        "        if self.v_c_nf < v_c_nf_min:\n",
        "            self.v_c_nf = v_c_nf_min\n",
        "        # updating v_c_fs\n",
        "        self.v_c_fs = w * self.v_c_fs + c1 * r1 * (self.c_fs_best - self.c_fs) + c2 * r2 * (best_particle.c_fs_best - self.c_fs)\n",
        "        v_c_fs_max = 13 - self.c_fs\n",
        "        if self.v_c_fs > v_c_fs_max:\n",
        "            self.v_c_fs = v_c_fs_max\n",
        "        v_c_fs_min = 1 - self.c_fs\n",
        "        if self.v_c_fs < v_c_fs_min:\n",
        "            self.v_c_fs = v_c_fs_min\n",
        "        # updating v_c_pp\n",
        "        self.v_c_pp = w * self.v_c_pp + c1 * r1 * (self.c_pp_best - self.c_pp) + c2 * r2 * (best_particle.c_pp_best - self.c_pp)\n",
        "        v_c_pp_max = 1 - self.c_pp\n",
        "        if self.v_c_pp > v_c_pp_max:\n",
        "            self.v_c_pp = v_c_pp_max\n",
        "        v_c_pp_min = 0 - self.c_pp\n",
        "        if self.v_c_pp < v_c_pp_min:\n",
        "            self.v_c_pp = v_c_pp_min\n",
        "        # updating v_c_ss\n",
        "        self.v_c_ss = w * self.v_c_ss + c1 * r1 * (self.c_ss_best - self.c_ss) + c2 * r2 * (best_particle.c_ss_best - self.c_ss)\n",
        "        v_c_ss_max = self.c_fs - 1 - self.c_ss\n",
        "        if self.v_c_ss > v_c_ss_max:\n",
        "            self.v_c_ss = v_c_ss_max\n",
        "        v_c_ss_min = 1 - self.c_ss\n",
        "        if self.v_c_ss < v_c_ss_min:\n",
        "            self.v_c_ss = v_c_ss_min\n",
        "        # updating v_p_fs\n",
        "        self.v_p_fs = w * self.v_p_fs + c1 * r1 * (self.p_fs_best - self.p_fs) + c2 * r2 * (best_particle.p_fs_best - self.p_fs)\n",
        "        v_p_fs_max = 13 - self.p_fs\n",
        "        if self.v_p_fs > v_p_fs_max:\n",
        "            self.v_p_fs = v_p_fs_max\n",
        "        v_p_fs_min = 1 - self.p_fs\n",
        "        if self.v_p_fs < v_p_fs_min:\n",
        "            self.v_p_fs = v_p_fs_min\n",
        "        # updating v_p_ss\n",
        "        self.v_p_ss = w * self.v_p_ss + c1 * r1 * (self.p_ss_best - self.p_ss) + c2 * r2 * (best_particle.p_ss_best - self.p_ss)\n",
        "        v_p_ss_max = self.p_fs - 1 - self.p_ss # right ?\n",
        "        v_p_ss_max = 5 - self.p_ss\n",
        "        if self.v_p_ss > v_p_ss_max:\n",
        "            self.v_p_ss = v_p_ss_max\n",
        "        v_p_ss_min = 1 - self.p_ss\n",
        "        if self.v_p_ss < v_p_ss_min:\n",
        "            self.v_p_ss = v_p_ss_min\n",
        "        # updating v_p_pp\n",
        "        self.v_p_pp = w * self.v_p_pp + c1 * r1 * (self.p_pp_best - self.p_pp) + c2 * r2 * (best_particle.p_pp_best - self.p_pp)\n",
        "        v_p_pp_max = 1 - self.p_pp\n",
        "        if self.v_p_pp > v_p_pp_max:\n",
        "            self.v_p_pp = v_p_pp_max\n",
        "        v_p_pp_min = 0 - self.p_pp\n",
        "        if self.v_p_pp < v_p_pp_min:\n",
        "            self.v_p_pp = v_p_pp_min\n",
        "        # updating v_op\n",
        "        self.v_op = w * self.v_op + c1 * r1 * (self.op_best - self.op) + c2 * r2 * (best_particle.op_best - self.op)\n",
        "        v_op_max = 1024 - self.op\n",
        "        if self.v_op > v_op_max:\n",
        "            self.v_op = v_op_max\n",
        "        v_op_min = 1 - self.op\n",
        "        if self.v_op < v_op_min:\n",
        "            self.v_op = v_op_min"
      ]
    },
    {
      "cell_type": "code",
      "execution_count": 6,
      "metadata": {
        "id": "4Lj1iP2FV0Hw"
      },
      "outputs": [],
      "source": [
        "class HybridMPSOCNN:\n",
        "    def __init__(self, number_of_classes, x_train, y_train, x_test, y_test, m=5, n=8):\n",
        "        self.m = m\n",
        "        self.n = n\n",
        "        self.number_of_classes = number_of_classes\n",
        "        self.x_train = x_train\n",
        "        self.y_train = y_train\n",
        "        self.x_test = x_test\n",
        "        self.y_test = y_test\n",
        "        self.number_of_trained_cnns = 0\n",
        "        self.cnns_trained_time = 0\n",
        "        self.gbest = None\n",
        "    \n",
        "    def summary(self):\n",
        "        print(f'Number of trained cnn\\'s: {self.number_of_trained_cnns}')\n",
        "        print(f'Average cnn train time: {self.cnns_trained_time / self.number_of_trained_cnns}')\n",
        "        print('Best Hyperparameters:')\n",
        "        print(f'Number of convolutional layers (nC): {self.gbest.nC_best}')\n",
        "        print(f'Number of pooling layers (nP): {self.gbest.nP_best}')\n",
        "        print(f'Number of fully connected layers (nF): {self.gbest.nF_best}')\n",
        "        print(f'Number of ﬁlters (c_nf): {self.gbest.best_particle.c_nf_best}')\n",
        "        print(f'Filter Size (c_fs) (odd): {self.gbest.best_particle.c_fs_best}')\n",
        "        print(f'Padding pixels (c_pp): {self.gbest.best_particle.c_pp_best}')\n",
        "        print(f'Stride Size (c_ss)(< c_fs): {self.gbest.best_particle.c_ss_best}')\n",
        "        print(f'Filter Size (p_fs)(odd): {self.gbest.best_particle.p_fs_best}')\n",
        "        print(f'Stride Size (p_ss): {self.gbest.best_particle.p_ss_best}')\n",
        "        print(f'Padding pixels (p_pp) (< p_fs): {self.gbest.best_particle.p_pp_best}')\n",
        "        print(f'Number of neurons (op): {self.gbest.best_particle.op_best}')\n",
        "        print(f'Fitness (aka accuracy of best model): {self.gbest.getFitness()}')\n",
        "    \n",
        "    def run(self): # based on algorithm 2\n",
        "        swarm1 = [Particle1(self.n)] * self.m\n",
        "        # t_max = randint(5, 8)\n",
        "        t_max = 3\n",
        "        for t in range(t_max):\n",
        "            for particle in swarm1:\n",
        "                nC = particle.nC\n",
        "                nP = particle.nP\n",
        "                nF = particle.nF\n",
        "                best_particle, cnn_counter, cnns_trained_time = particle.calculate_pbest(self.number_of_classes, self.x_train, self.y_train, self.x_test, self.y_test)\n",
        "                self.number_of_trained_cnns += cnn_counter\n",
        "                self.cnns_trained_time += cnns_trained_time\n",
        "                print(f'number of trained cnn\\'s so far: {self.number_of_trained_cnns}')\n",
        "                if best_particle.fitness > particle.getFitness():\n",
        "                    particle.nC_best = nC\n",
        "                    particle.nP_best = nP\n",
        "                    particle.nF_best = nF\n",
        "                    particle.best_particle = best_particle\n",
        "                if not self.gbest or best_particle.fitness > self.gbest.getFitness():\n",
        "                    self.gbest = particle\n",
        "                w = calculate_omega(t, t_max)\n",
        "                particle.updateVelocity(w)\n",
        "                particle.updatePosition()\n",
        "        print('Done!')"
      ]
    },
    {
      "cell_type": "markdown",
      "metadata": {
        "id": "55X88drcMAm3"
      },
      "source": [
        "## MNIST Dataset"
      ]
    },
    {
      "cell_type": "code",
      "execution_count": 7,
      "metadata": {
        "id": "U7WWUWkXLhPj"
      },
      "outputs": [],
      "source": [
        "(x_train, y_train), (x_test, y_test) = mnist.load_data()"
      ]
    },
    {
      "cell_type": "code",
      "execution_count": 8,
      "metadata": {
        "colab": {
          "base_uri": "https://localhost:8080/"
        },
        "id": "yl9rkMy4LtDu",
        "outputId": "cbb3415a-da34-416f-86d8-d3fc35b98e19"
      },
      "outputs": [
        {
          "output_type": "execute_result",
          "data": {
            "text/plain": [
              "(60000, 28, 28)"
            ]
          },
          "metadata": {},
          "execution_count": 8
        }
      ],
      "source": [
        "x_train.shape"
      ]
    },
    {
      "cell_type": "code",
      "execution_count": 9,
      "metadata": {
        "colab": {
          "base_uri": "https://localhost:8080/"
        },
        "id": "Ujh28hgEL10u",
        "outputId": "2b528ea3-e3ea-48fb-dea8-c136d1d837d4"
      },
      "outputs": [
        {
          "output_type": "execute_result",
          "data": {
            "text/plain": [
              "(60000,)"
            ]
          },
          "metadata": {},
          "execution_count": 9
        }
      ],
      "source": [
        "y_train.shape"
      ]
    },
    {
      "cell_type": "code",
      "execution_count": 10,
      "metadata": {
        "colab": {
          "base_uri": "https://localhost:8080/"
        },
        "id": "cMpKejqGL5Wn",
        "outputId": "1b395664-09b8-40d5-c62b-3e3355fb18bd"
      },
      "outputs": [
        {
          "output_type": "execute_result",
          "data": {
            "text/plain": [
              "(10000, 28, 28)"
            ]
          },
          "metadata": {},
          "execution_count": 10
        }
      ],
      "source": [
        "x_test.shape"
      ]
    },
    {
      "cell_type": "code",
      "execution_count": 11,
      "metadata": {
        "colab": {
          "base_uri": "https://localhost:8080/"
        },
        "id": "1ieNe0eDL7fM",
        "outputId": "24ead751-a7db-48cf-a4ae-5c29b1e25571"
      },
      "outputs": [
        {
          "output_type": "execute_result",
          "data": {
            "text/plain": [
              "(10000,)"
            ]
          },
          "metadata": {},
          "execution_count": 11
        }
      ],
      "source": [
        "y_test.shape"
      ]
    },
    {
      "cell_type": "code",
      "execution_count": 12,
      "metadata": {
        "id": "vxtbmi2DfSmg"
      },
      "outputs": [],
      "source": [
        "# Converting\n",
        "x_train = x_train.astype('float32')\n",
        "x_test = x_test.astype('float32')"
      ]
    },
    {
      "cell_type": "code",
      "execution_count": 13,
      "metadata": {
        "id": "-69Mg5VrNQxf"
      },
      "outputs": [],
      "source": [
        "# Normalising\n",
        "x_train /= 255\n",
        "x_test /= 255"
      ]
    },
    {
      "cell_type": "code",
      "execution_count": 14,
      "metadata": {
        "id": "AGrmbUDkgPxB"
      },
      "outputs": [],
      "source": [
        "# Encode the labels\n",
        "y_train = to_categorical(y_train, 10)\n",
        "y_test = to_categorical(y_test, 10)"
      ]
    },
    {
      "cell_type": "code",
      "execution_count": 15,
      "metadata": {
        "id": "8Q6EK101E3Rm"
      },
      "outputs": [],
      "source": [
        "# Reshaping the data to feed it to the CNN\n",
        "x_train = x_train.reshape(x_train.shape[0], 28, 28, 1)\n",
        "x_test = x_test.reshape(x_test.shape[0], 28, 28, 1)"
      ]
    },
    {
      "cell_type": "code",
      "execution_count": 16,
      "metadata": {
        "colab": {
          "base_uri": "https://localhost:8080/"
        },
        "id": "aLtLyKX4V7mi",
        "outputId": "91acc77e-914e-49c6-d786-94902520797d"
      },
      "outputs": [
        {
          "output_type": "stream",
          "name": "stdout",
          "text": [
            "cnn\n",
            "469/469 [==============================] - 34s 71ms/step - loss: 0.4368 - accuracy: 0.8590\n",
            "313/313 [==============================] - 2s 7ms/step - loss: 0.1340 - accuracy: 0.9571\n",
            "cnn\n",
            "469/469 [==============================] - 11s 22ms/step - loss: 1.0971 - accuracy: 0.6310\n",
            "313/313 [==============================] - 1s 4ms/step - loss: 0.8838 - accuracy: 0.6973\n",
            "cnn\n",
            "469/469 [==============================] - 146s 311ms/step - loss: 0.2419 - accuracy: 0.9271\n",
            "313/313 [==============================] - 6s 18ms/step - loss: 0.0516 - accuracy: 0.9835\n",
            "cnn\n",
            "469/469 [==============================] - 208s 442ms/step - loss: 0.3113 - accuracy: 0.9116\n",
            "313/313 [==============================] - 9s 30ms/step - loss: 0.0616 - accuracy: 0.9796\n",
            "cnn\n",
            "469/469 [==============================] - 146s 310ms/step - loss: 0.2195 - accuracy: 0.9334\n",
            "313/313 [==============================] - 8s 25ms/step - loss: 0.0502 - accuracy: 0.9834\n",
            "cnn\n",
            "469/469 [==============================] - 131s 277ms/step - loss: 0.2787 - accuracy: 0.9140\n",
            "313/313 [==============================] - 6s 18ms/step - loss: 0.0643 - accuracy: 0.9812\n",
            "cnn\n",
            "469/469 [==============================] - 155s 327ms/step - loss: 0.2508 - accuracy: 0.9255\n",
            "313/313 [==============================] - 7s 23ms/step - loss: 0.0431 - accuracy: 0.9849\n",
            "cnn\n",
            "469/469 [==============================] - 139s 295ms/step - loss: 0.2243 - accuracy: 0.9323\n",
            "313/313 [==============================] - 6s 18ms/step - loss: 0.0608 - accuracy: 0.9800\n",
            "cnn\n",
            "469/469 [==============================] - 146s 309ms/step - loss: 0.2333 - accuracy: 0.9304\n",
            "313/313 [==============================] - 7s 23ms/step - loss: 0.0730 - accuracy: 0.9766\n",
            "number of trained cnn's so far: 9\n",
            "cnn\n",
            "469/469 [==============================] - 137s 291ms/step - loss: 0.2633 - accuracy: 0.9223\n",
            "313/313 [==============================] - 6s 18ms/step - loss: 0.0528 - accuracy: 0.9823\n",
            "cnn\n",
            "469/469 [==============================] - 153s 323ms/step - loss: 0.2067 - accuracy: 0.9352\n",
            "313/313 [==============================] - 8s 24ms/step - loss: 0.0445 - accuracy: 0.9859\n",
            "cnn\n",
            "469/469 [==============================] - 157s 333ms/step - loss: 0.2308 - accuracy: 0.9309\n",
            "313/313 [==============================] - 7s 23ms/step - loss: 0.0557 - accuracy: 0.9810\n",
            "cnn\n",
            "469/469 [==============================] - 154s 326ms/step - loss: 0.2336 - accuracy: 0.9278\n",
            "313/313 [==============================] - 6s 20ms/step - loss: 0.0423 - accuracy: 0.9844\n",
            "cnn\n",
            "469/469 [==============================] - 146s 311ms/step - loss: 0.2398 - accuracy: 0.9269\n",
            "313/313 [==============================] - 6s 19ms/step - loss: 0.0485 - accuracy: 0.9845\n",
            "cnn\n",
            "469/469 [==============================] - 153s 326ms/step - loss: 0.2447 - accuracy: 0.9244\n",
            "313/313 [==============================] - 7s 21ms/step - loss: 0.0623 - accuracy: 0.9800\n",
            "cnn\n",
            "469/469 [==============================] - 156s 332ms/step - loss: 0.2643 - accuracy: 0.9217\n",
            "313/313 [==============================] - 6s 19ms/step - loss: 0.0519 - accuracy: 0.9836\n",
            "cnn\n",
            "469/469 [==============================] - 153s 325ms/step - loss: 0.2276 - accuracy: 0.9308\n",
            "313/313 [==============================] - 8s 24ms/step - loss: 0.0613 - accuracy: 0.9804\n",
            "cnn\n",
            "469/469 [==============================] - 153s 325ms/step - loss: 0.2281 - accuracy: 0.9318\n",
            "313/313 [==============================] - 6s 19ms/step - loss: 0.0443 - accuracy: 0.9848\n",
            "number of trained cnn's so far: 18\n",
            "cnn\n",
            "469/469 [==============================] - 157s 333ms/step - loss: 0.2274 - accuracy: 0.9308\n",
            "313/313 [==============================] - 8s 24ms/step - loss: 0.0461 - accuracy: 0.9847\n",
            "cnn\n",
            "469/469 [==============================] - 152s 323ms/step - loss: 0.2634 - accuracy: 0.9214\n",
            "313/313 [==============================] - 8s 24ms/step - loss: 0.0464 - accuracy: 0.9848\n",
            "cnn\n",
            "469/469 [==============================] - 153s 324ms/step - loss: 0.2770 - accuracy: 0.9178\n",
            "313/313 [==============================] - 6s 19ms/step - loss: 0.0444 - accuracy: 0.9864\n",
            "cnn\n",
            "469/469 [==============================] - 150s 319ms/step - loss: 0.2553 - accuracy: 0.9241\n",
            "313/313 [==============================] - 6s 19ms/step - loss: 0.0561 - accuracy: 0.9826\n",
            "cnn\n",
            "469/469 [==============================] - 155s 328ms/step - loss: 0.2273 - accuracy: 0.9296\n",
            "313/313 [==============================] - 6s 20ms/step - loss: 0.0725 - accuracy: 0.9748\n",
            "cnn\n",
            "469/469 [==============================] - 152s 321ms/step - loss: 0.2472 - accuracy: 0.9249\n",
            "313/313 [==============================] - 8s 24ms/step - loss: 0.0622 - accuracy: 0.9793\n",
            "cnn\n",
            "469/469 [==============================] - 151s 320ms/step - loss: 0.2131 - accuracy: 0.9359\n",
            "313/313 [==============================] - 7s 21ms/step - loss: 0.0462 - accuracy: 0.9849\n",
            "cnn\n",
            "469/469 [==============================] - 152s 321ms/step - loss: 0.2270 - accuracy: 0.9312\n",
            "313/313 [==============================] - 6s 19ms/step - loss: 0.0507 - accuracy: 0.9826\n",
            "cnn\n",
            "469/469 [==============================] - 151s 319ms/step - loss: 0.2423 - accuracy: 0.9278\n",
            "313/313 [==============================] - 8s 23ms/step - loss: 0.0447 - accuracy: 0.9851\n",
            "number of trained cnn's so far: 27\n",
            "cnn\n",
            "469/469 [==============================] - 153s 324ms/step - loss: 0.2415 - accuracy: 0.9258\n",
            "313/313 [==============================] - 6s 19ms/step - loss: 0.0585 - accuracy: 0.9803\n",
            "cnn\n",
            "469/469 [==============================] - 152s 321ms/step - loss: 0.2544 - accuracy: 0.9255\n",
            "313/313 [==============================] - 8s 24ms/step - loss: 0.0470 - accuracy: 0.9849\n",
            "cnn\n",
            "469/469 [==============================] - 152s 322ms/step - loss: 0.2284 - accuracy: 0.9306\n",
            "313/313 [==============================] - 6s 20ms/step - loss: 0.0468 - accuracy: 0.9854\n",
            "cnn\n",
            "469/469 [==============================] - 151s 319ms/step - loss: 0.2394 - accuracy: 0.9286\n",
            "313/313 [==============================] - 8s 24ms/step - loss: 0.0714 - accuracy: 0.9766\n",
            "cnn\n",
            "469/469 [==============================] - 153s 322ms/step - loss: 0.2743 - accuracy: 0.9195\n",
            "313/313 [==============================] - 7s 21ms/step - loss: 0.0454 - accuracy: 0.9845\n",
            "cnn\n",
            "469/469 [==============================] - 152s 321ms/step - loss: 0.2284 - accuracy: 0.9296\n",
            "313/313 [==============================] - 7s 21ms/step - loss: 0.0522 - accuracy: 0.9832\n",
            "cnn\n",
            "469/469 [==============================] - 152s 322ms/step - loss: 0.2460 - accuracy: 0.9268\n",
            "313/313 [==============================] - 6s 20ms/step - loss: 0.0563 - accuracy: 0.9813\n",
            "cnn\n",
            "469/469 [==============================] - 152s 322ms/step - loss: 0.2551 - accuracy: 0.9247\n",
            "313/313 [==============================] - 6s 19ms/step - loss: 0.0500 - accuracy: 0.9836\n",
            "cnn\n",
            "469/469 [==============================] - 151s 320ms/step - loss: 0.2702 - accuracy: 0.9203\n",
            "313/313 [==============================] - 8s 24ms/step - loss: 0.0467 - accuracy: 0.9845\n",
            "number of trained cnn's so far: 36\n",
            "cnn\n",
            "469/469 [==============================] - 152s 322ms/step - loss: 0.2234 - accuracy: 0.9311\n",
            "313/313 [==============================] - 7s 22ms/step - loss: 0.0436 - accuracy: 0.9849\n",
            "cnn\n",
            "469/469 [==============================] - 151s 320ms/step - loss: 0.2492 - accuracy: 0.9266\n",
            "313/313 [==============================] - 6s 19ms/step - loss: 0.0596 - accuracy: 0.9814\n",
            "cnn\n",
            "469/469 [==============================] - 151s 321ms/step - loss: 0.2205 - accuracy: 0.9325\n",
            "313/313 [==============================] - 6s 20ms/step - loss: 0.0589 - accuracy: 0.9802\n",
            "cnn\n",
            "469/469 [==============================] - 152s 323ms/step - loss: 0.2530 - accuracy: 0.9245\n",
            "313/313 [==============================] - 8s 24ms/step - loss: 0.0429 - accuracy: 0.9865\n",
            "cnn\n",
            "469/469 [==============================] - 155s 330ms/step - loss: 0.2364 - accuracy: 0.9295\n",
            "313/313 [==============================] - 8s 23ms/step - loss: 0.0419 - accuracy: 0.9861\n",
            "cnn\n",
            "469/469 [==============================] - 154s 328ms/step - loss: 0.2371 - accuracy: 0.9283\n",
            "313/313 [==============================] - 6s 20ms/step - loss: 0.0424 - accuracy: 0.9862\n",
            "cnn\n",
            "469/469 [==============================] - 153s 324ms/step - loss: 0.2286 - accuracy: 0.9314\n",
            "313/313 [==============================] - 7s 23ms/step - loss: 0.0652 - accuracy: 0.9779\n",
            "cnn\n",
            "469/469 [==============================] - 154s 326ms/step - loss: 0.2508 - accuracy: 0.9242\n",
            "313/313 [==============================] - 6s 20ms/step - loss: 0.0457 - accuracy: 0.9847\n",
            "cnn\n",
            "469/469 [==============================] - 151s 321ms/step - loss: 0.2287 - accuracy: 0.9300\n",
            "313/313 [==============================] - 6s 19ms/step - loss: 0.0502 - accuracy: 0.9840\n",
            "number of trained cnn's so far: 45\n",
            "cnn\n",
            "469/469 [==============================] - 153s 323ms/step - loss: 0.2203 - accuracy: 0.9343\n",
            "313/313 [==============================] - 8s 24ms/step - loss: 0.0441 - accuracy: 0.9858\n",
            "cnn\n",
            "469/469 [==============================] - 152s 322ms/step - loss: 0.2555 - accuracy: 0.9239\n",
            "313/313 [==============================] - 6s 20ms/step - loss: 0.0459 - accuracy: 0.9845\n",
            "cnn\n",
            "469/469 [==============================] - 152s 322ms/step - loss: 0.2069 - accuracy: 0.9367\n",
            "313/313 [==============================] - 8s 24ms/step - loss: 0.0524 - accuracy: 0.9828\n",
            "cnn\n",
            "469/469 [==============================] - 150s 319ms/step - loss: 0.2204 - accuracy: 0.9320\n",
            "313/313 [==============================] - 6s 19ms/step - loss: 0.0490 - accuracy: 0.9838\n",
            "cnn\n",
            "469/469 [==============================] - 152s 321ms/step - loss: 0.2317 - accuracy: 0.9304\n",
            "313/313 [==============================] - 7s 23ms/step - loss: 0.0555 - accuracy: 0.9816\n",
            "cnn\n",
            "469/469 [==============================] - 151s 321ms/step - loss: 0.2513 - accuracy: 0.9243\n",
            "313/313 [==============================] - 6s 19ms/step - loss: 0.0474 - accuracy: 0.9844\n",
            "cnn\n",
            "469/469 [==============================] - 152s 322ms/step - loss: 0.2265 - accuracy: 0.9320\n",
            "313/313 [==============================] - 6s 19ms/step - loss: 0.0634 - accuracy: 0.9794\n",
            "cnn\n",
            "469/469 [==============================] - 151s 321ms/step - loss: 0.2526 - accuracy: 0.9256\n",
            "313/313 [==============================] - 8s 24ms/step - loss: 0.0431 - accuracy: 0.9847\n",
            "cnn\n",
            "469/469 [==============================] - 152s 322ms/step - loss: 0.2459 - accuracy: 0.9253\n",
            "313/313 [==============================] - 7s 22ms/step - loss: 0.0620 - accuracy: 0.9794\n",
            "number of trained cnn's so far: 54\n",
            "cnn\n",
            "469/469 [==============================] - 151s 321ms/step - loss: 0.2309 - accuracy: 0.9315\n",
            "313/313 [==============================] - 6s 20ms/step - loss: 0.0596 - accuracy: 0.9812\n",
            "cnn\n",
            "469/469 [==============================] - 151s 320ms/step - loss: 0.2324 - accuracy: 0.9297\n",
            "313/313 [==============================] - 8s 24ms/step - loss: 0.0550 - accuracy: 0.9810\n",
            "cnn\n",
            "469/469 [==============================] - 152s 323ms/step - loss: 0.2584 - accuracy: 0.9241\n",
            "313/313 [==============================] - 6s 19ms/step - loss: 0.0644 - accuracy: 0.9798\n",
            "cnn\n",
            "469/469 [==============================] - 152s 322ms/step - loss: 0.2386 - accuracy: 0.9293\n",
            "313/313 [==============================] - 8s 25ms/step - loss: 0.0474 - accuracy: 0.9829\n",
            "cnn\n",
            "469/469 [==============================] - 154s 326ms/step - loss: 0.2225 - accuracy: 0.9321\n",
            "313/313 [==============================] - 8s 24ms/step - loss: 0.0571 - accuracy: 0.9816\n",
            "cnn\n",
            "469/469 [==============================] - 151s 321ms/step - loss: 0.2204 - accuracy: 0.9332\n",
            "313/313 [==============================] - 8s 24ms/step - loss: 0.0542 - accuracy: 0.9811\n",
            "cnn\n",
            "469/469 [==============================] - 152s 323ms/step - loss: 0.2468 - accuracy: 0.9269\n",
            "313/313 [==============================] - 7s 21ms/step - loss: 0.0580 - accuracy: 0.9810\n",
            "cnn\n",
            "469/469 [==============================] - 156s 331ms/step - loss: 0.2195 - accuracy: 0.9336\n",
            "313/313 [==============================] - 6s 19ms/step - loss: 0.0495 - accuracy: 0.9834\n",
            "cnn\n",
            "469/469 [==============================] - 152s 322ms/step - loss: 0.2352 - accuracy: 0.9287\n",
            "313/313 [==============================] - 8s 25ms/step - loss: 0.0638 - accuracy: 0.9789\n",
            "number of trained cnn's so far: 63\n",
            "cnn\n",
            "469/469 [==============================] - 156s 331ms/step - loss: 0.2511 - accuracy: 0.9240\n",
            "313/313 [==============================] - 6s 20ms/step - loss: 0.0514 - accuracy: 0.9829\n",
            "cnn\n",
            "469/469 [==============================] - 154s 328ms/step - loss: 0.2210 - accuracy: 0.9317\n",
            "313/313 [==============================] - 7s 22ms/step - loss: 0.0500 - accuracy: 0.9833\n",
            "cnn\n",
            "469/469 [==============================] - 154s 327ms/step - loss: 0.2497 - accuracy: 0.9252\n",
            "313/313 [==============================] - 6s 20ms/step - loss: 0.0484 - accuracy: 0.9834\n",
            "cnn\n",
            "469/469 [==============================] - 154s 326ms/step - loss: 0.2400 - accuracy: 0.9270\n",
            "313/313 [==============================] - 8s 25ms/step - loss: 0.0429 - accuracy: 0.9850\n",
            "cnn\n",
            "469/469 [==============================] - 155s 329ms/step - loss: 0.2218 - accuracy: 0.9328\n",
            "313/313 [==============================] - 7s 23ms/step - loss: 0.0518 - accuracy: 0.9813\n",
            "cnn\n",
            "469/469 [==============================] - 153s 324ms/step - loss: 0.2217 - accuracy: 0.9328\n",
            "313/313 [==============================] - 6s 20ms/step - loss: 0.0490 - accuracy: 0.9836\n",
            "cnn\n",
            "469/469 [==============================] - 153s 323ms/step - loss: 0.2052 - accuracy: 0.9371\n",
            "313/313 [==============================] - 7s 22ms/step - loss: 0.0415 - accuracy: 0.9853\n",
            "cnn\n",
            "469/469 [==============================] - 157s 333ms/step - loss: 0.2587 - accuracy: 0.9237\n",
            "313/313 [==============================] - 6s 20ms/step - loss: 0.0655 - accuracy: 0.9783\n",
            "cnn\n",
            "469/469 [==============================] - 160s 337ms/step - loss: 0.2311 - accuracy: 0.9286\n",
            "313/313 [==============================] - 7s 21ms/step - loss: 0.0552 - accuracy: 0.9810\n",
            "number of trained cnn's so far: 72\n",
            "cnn\n",
            "469/469 [==============================] - 155s 329ms/step - loss: 0.2622 - accuracy: 0.9251\n",
            "313/313 [==============================] - 8s 24ms/step - loss: 0.0421 - accuracy: 0.9858\n",
            "cnn\n",
            "469/469 [==============================] - 158s 335ms/step - loss: 0.2299 - accuracy: 0.9307\n",
            "313/313 [==============================] - 8s 26ms/step - loss: 0.0462 - accuracy: 0.9843\n",
            "cnn\n",
            "469/469 [==============================] - 158s 335ms/step - loss: 0.2243 - accuracy: 0.9319\n",
            "313/313 [==============================] - 7s 21ms/step - loss: 0.0441 - accuracy: 0.9843\n",
            "cnn\n",
            "469/469 [==============================] - 156s 331ms/step - loss: 0.2576 - accuracy: 0.9230\n",
            "313/313 [==============================] - 8s 25ms/step - loss: 0.0612 - accuracy: 0.9793\n",
            "cnn\n",
            "469/469 [==============================] - 157s 333ms/step - loss: 0.2350 - accuracy: 0.9297\n",
            "313/313 [==============================] - 6s 20ms/step - loss: 0.0476 - accuracy: 0.9843\n",
            "cnn\n",
            "469/469 [==============================] - 154s 328ms/step - loss: 0.2314 - accuracy: 0.9307\n",
            "313/313 [==============================] - 8s 25ms/step - loss: 0.0544 - accuracy: 0.9816\n",
            "cnn\n",
            "469/469 [==============================] - 154s 326ms/step - loss: 0.2386 - accuracy: 0.9280\n",
            "313/313 [==============================] - 6s 20ms/step - loss: 0.0502 - accuracy: 0.9827\n",
            "cnn\n",
            "469/469 [==============================] - 153s 325ms/step - loss: 0.2536 - accuracy: 0.9241\n",
            "313/313 [==============================] - 6s 20ms/step - loss: 0.1111 - accuracy: 0.9612\n",
            "cnn\n",
            "469/469 [==============================] - 153s 325ms/step - loss: 0.2514 - accuracy: 0.9243\n",
            "313/313 [==============================] - 8s 24ms/step - loss: 0.0522 - accuracy: 0.9826\n",
            "number of trained cnn's so far: 81\n",
            "Done!\n"
          ]
        }
      ],
      "source": [
        "optimizer = HybridMPSOCNN(10, x_train, y_train, x_test, y_test, 3, 3)\n",
        "optimizer.run()"
      ]
    },
    {
      "cell_type": "code",
      "execution_count": 17,
      "metadata": {
        "colab": {
          "base_uri": "https://localhost:8080/"
        },
        "id": "kSF_8iO2IlET",
        "outputId": "8db7aa21-4ef3-4ea6-9fd3-d28050d1a18b"
      },
      "outputs": [
        {
          "output_type": "stream",
          "name": "stdout",
          "text": [
            "Number of trained cnn's: 81\n",
            "Average cnn train time: 185.6814292948923\n",
            "Best Hyperparameters:\n",
            "Number of convolutional layers (nC): 3\n",
            "Number of pooling layers (nP): 1\n",
            "Number of fully connected layers (nF): 1\n",
            "Number of ﬁlters (c_nf): 37\n",
            "Filter Size (c_fs) (odd): 5\n",
            "Padding pixels (c_pp): 1\n",
            "Stride Size (c_ss)(< c_fs): 1\n",
            "Filter Size (p_fs)(odd): 7\n",
            "Stride Size (p_ss): 2\n",
            "Padding pixels (p_pp) (< p_fs): 1\n",
            "Number of neurons (op): 463\n",
            "Fitness (aka accuracy of best model): 0.9865000247955322\n"
          ]
        }
      ],
      "source": [
        "optimizer.summary()"
      ]
    }
  ],
  "metadata": {
    "colab": {
      "provenance": [],
      "authorship_tag": "ABX9TyOlC9NS949VZ1CgaHnWDV5U"
    },
    "kernelspec": {
      "display_name": "Python 3",
      "name": "python3"
    },
    "language_info": {
      "name": "python"
    }
  },
  "nbformat": 4,
  "nbformat_minor": 0
}